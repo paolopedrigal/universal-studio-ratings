{
 "cells": [
  {
   "cell_type": "markdown",
   "metadata": {},
   "source": [
    "# Analyzing and Predicting Universal Studio Review Ratings"
   ]
  },
  {
   "cell_type": "markdown",
   "metadata": {},
   "source": [
    " Author: Paolo Pedrigal"
   ]
  },
  {
   "cell_type": "markdown",
   "metadata": {},
   "source": [
    "## Table of Contents\n",
    "\n",
    "### 1. Introduction\n",
    "     1.1 About Universal Studios Theme Park\n",
    "     1.2 Explaining the Dataset\n",
    "     1.3 Sources\n",
    "     \n",
    "### 2. Analyzing the Dataset (EDA)\n",
    "    2.1 Getting the data.\n",
    "    2.2 Finding the top 10 most frequent words based on rating.\n",
    "    2.3 How frequent were there reviews over a period of time?\n",
    "    2.4 Which branch tends to yield higher-rated reviews? Which branch tends to yield lower-rated reviews?\n",
    "    \n",
    "### 3. Preparing and Predicting the Data\n",
    "     3.1 Preparing data for training and testing\n",
    "     3.2 Train and test ML model\n",
    "     3.3 Determining the accuracy of our model\n",
    "     \n",
    "### 4. Final Remarks\n",
    "\n",
    "__________________________________________________________________________________________________"
   ]
  },
  {
   "cell_type": "markdown",
   "metadata": {},
   "source": [
    "### 1. Introduction"
   ]
  },
  {
   "cell_type": "markdown",
   "metadata": {},
   "source": [
    "#### 1.1. About Universal Studios Theme Park"
   ]
  },
  {
   "cell_type": "markdown",
   "metadata": {},
   "source": [
    "Universal Studios Theme Park is multi-branch theme park that includes rides, entertainment, food, and more. The theme parks are all based on the motion pictures produced by Universal Studios."
   ]
  },
  {
   "cell_type": "markdown",
   "metadata": {},
   "source": [
    "#### 1.2 Explaining this Project"
   ]
  },
  {
   "cell_type": "markdown",
   "metadata": {},
   "source": [
    "In this project, I will be conducting exploratory data analysis of the given dataset, including figuring out what common words are their in certain rated reviews, seeing how frequent reviews occured over the years and within a calendar year, and comparing review ratings by branch. I will also be diving into natural language processing to see if we can predict 1-star and 5-star rated reviews.\n",
    "\n",
    "I decided to choose this topic because I have recently went to Disneyland, another theme park, and was curious if I could apply my knowledge of data science towards theme park ratings.\n",
    "\n",
    "The input data is a CSV file, containing 50,904 entries of reviews. \n",
    "\n",
    "For convience, when I refer to Universal Studios, I am really referring to the theme park."
   ]
  },
  {
   "cell_type": "markdown",
   "metadata": {},
   "source": [
    "#### 1.3 Sources"
   ]
  },
  {
   "cell_type": "markdown",
   "metadata": {},
   "source": [
    "Original source: https://www.kaggle.com/dwiknrd/reviewuniversalstudio\t(Kaggle)"
   ]
  },
  {
   "cell_type": "markdown",
   "metadata": {},
   "source": [
    "### 2. Analyzing the Dataset (EDA)"
   ]
  },
  {
   "cell_type": "markdown",
   "metadata": {},
   "source": [
    "#### 2.1 Getting the data."
   ]
  },
  {
   "cell_type": "markdown",
   "metadata": {},
   "source": [
    "Importing libraries for EDA and ML."
   ]
  },
  {
   "cell_type": "code",
   "execution_count": 1,
   "metadata": {},
   "outputs": [],
   "source": [
    "import numpy as np\n",
    "import pandas as pd\n",
    "import matplotlib.pyplot as plt\n",
    "import nltk\n",
    "from nltk.tokenize import RegexpTokenizer\n",
    "import matplotlib.pyplot as plt\n",
    "from nltk.corpus import stopwords\n",
    "from nltk.stem import PorterStemmer\n",
    "import re\n",
    "from sklearn.feature_extraction.text import CountVectorizer\n",
    "from sklearn.model_selection import train_test_split\n",
    "from sklearn.naive_bayes import MultinomialNB\n",
    "from sklearn import metrics"
   ]
  },
  {
   "cell_type": "markdown",
   "metadata": {},
   "source": [
    "Creating a raw dataframe from our source file.\n"
   ]
  },
  {
   "cell_type": "code",
   "execution_count": 2,
   "metadata": {},
   "outputs": [
    {
     "name": "stdout",
     "output_type": "stream",
     "text": [
      "Number of entries: 50904\n",
      "Column names: reviewer, rating, written_date, title, review_text, branch\n"
     ]
    }
   ],
   "source": [
    "df = pd.read_csv(\"universal_studio_branches.csv\")\n",
    "print(\"Number of entries:\", df.shape[0])\n",
    "print(\"Column names:\", \", \".join(df.columns.values))"
   ]
  },
  {
   "cell_type": "markdown",
   "metadata": {},
   "source": [
    "Let's take a peak into the dataframe."
   ]
  },
  {
   "cell_type": "code",
   "execution_count": 3,
   "metadata": {},
   "outputs": [
    {
     "data": {
      "text/html": [
       "<div>\n",
       "<style scoped>\n",
       "    .dataframe tbody tr th:only-of-type {\n",
       "        vertical-align: middle;\n",
       "    }\n",
       "\n",
       "    .dataframe tbody tr th {\n",
       "        vertical-align: top;\n",
       "    }\n",
       "\n",
       "    .dataframe thead th {\n",
       "        text-align: right;\n",
       "    }\n",
       "</style>\n",
       "<table border=\"1\" class=\"dataframe\">\n",
       "  <thead>\n",
       "    <tr style=\"text-align: right;\">\n",
       "      <th></th>\n",
       "      <th>reviewer</th>\n",
       "      <th>rating</th>\n",
       "      <th>written_date</th>\n",
       "      <th>title</th>\n",
       "      <th>review_text</th>\n",
       "      <th>branch</th>\n",
       "    </tr>\n",
       "  </thead>\n",
       "  <tbody>\n",
       "    <tr>\n",
       "      <th>0</th>\n",
       "      <td>Kelly B</td>\n",
       "      <td>2.0</td>\n",
       "      <td>May 30, 2021</td>\n",
       "      <td>Universal is a complete Disaster - stick with ...</td>\n",
       "      <td>We went to Universal over Memorial Day weekend...</td>\n",
       "      <td>Universal Studios Florida</td>\n",
       "    </tr>\n",
       "    <tr>\n",
       "      <th>1</th>\n",
       "      <td>Jon</td>\n",
       "      <td>1.0</td>\n",
       "      <td>May 30, 2021</td>\n",
       "      <td>Food is hard to get.</td>\n",
       "      <td>The food service is horrible. I’m not reviewin...</td>\n",
       "      <td>Universal Studios Florida</td>\n",
       "    </tr>\n",
       "    <tr>\n",
       "      <th>2</th>\n",
       "      <td>Nerdy P</td>\n",
       "      <td>2.0</td>\n",
       "      <td>May 30, 2021</td>\n",
       "      <td>Disappointed</td>\n",
       "      <td>I booked this vacation mainly to ride Hagrid m...</td>\n",
       "      <td>Universal Studios Florida</td>\n",
       "    </tr>\n",
       "    <tr>\n",
       "      <th>3</th>\n",
       "      <td>ran101278</td>\n",
       "      <td>4.0</td>\n",
       "      <td>May 29, 2021</td>\n",
       "      <td>My opinion</td>\n",
       "      <td>When a person tries the test seat for the ride...</td>\n",
       "      <td>Universal Studios Florida</td>\n",
       "    </tr>\n",
       "    <tr>\n",
       "      <th>4</th>\n",
       "      <td>tammies20132015</td>\n",
       "      <td>5.0</td>\n",
       "      <td>May 28, 2021</td>\n",
       "      <td>The Bourne Stuntacular...MUST SEE</td>\n",
       "      <td>Ok, I can't stress enough to anyone and everyo...</td>\n",
       "      <td>Universal Studios Florida</td>\n",
       "    </tr>\n",
       "    <tr>\n",
       "      <th>5</th>\n",
       "      <td>John</td>\n",
       "      <td>1.0</td>\n",
       "      <td>May 28, 2021</td>\n",
       "      <td>This is not a vacation</td>\n",
       "      <td>Worst experience I have ever had the rides are...</td>\n",
       "      <td>Universal Studios Florida</td>\n",
       "    </tr>\n",
       "    <tr>\n",
       "      <th>6</th>\n",
       "      <td>annapN7702ZW</td>\n",
       "      <td>2.0</td>\n",
       "      <td>May 27, 2021</td>\n",
       "      <td>Expected More</td>\n",
       "      <td>I just expected more. Alot of waiting around, ...</td>\n",
       "      <td>Universal Studios Florida</td>\n",
       "    </tr>\n",
       "    <tr>\n",
       "      <th>7</th>\n",
       "      <td>Deb P</td>\n",
       "      <td>2.0</td>\n",
       "      <td>May 27, 2021</td>\n",
       "      <td>Disapointing.....</td>\n",
       "      <td>This was my 4th trip with my daughter to Unive...</td>\n",
       "      <td>Universal Studios Florida</td>\n",
       "    </tr>\n",
       "    <tr>\n",
       "      <th>8</th>\n",
       "      <td>Chuck N</td>\n",
       "      <td>1.0</td>\n",
       "      <td>May 27, 2021</td>\n",
       "      <td>Greed makes for a terrible guest experience</td>\n",
       "      <td>Universal is one thing - Not Disney. Everythin...</td>\n",
       "      <td>Universal Studios Florida</td>\n",
       "    </tr>\n",
       "    <tr>\n",
       "      <th>9</th>\n",
       "      <td>Jen</td>\n",
       "      <td>4.0</td>\n",
       "      <td>May 26, 2021</td>\n",
       "      <td>Good first time visit with kids</td>\n",
       "      <td>We spent 6 nights on site at Sapphire Falls as...</td>\n",
       "      <td>Universal Studios Florida</td>\n",
       "    </tr>\n",
       "  </tbody>\n",
       "</table>\n",
       "</div>"
      ],
      "text/plain": [
       "          reviewer  rating  written_date  \\\n",
       "0          Kelly B     2.0  May 30, 2021   \n",
       "1              Jon     1.0  May 30, 2021   \n",
       "2          Nerdy P     2.0  May 30, 2021   \n",
       "3        ran101278     4.0  May 29, 2021   \n",
       "4  tammies20132015     5.0  May 28, 2021   \n",
       "5             John     1.0  May 28, 2021   \n",
       "6     annapN7702ZW     2.0  May 27, 2021   \n",
       "7            Deb P     2.0  May 27, 2021   \n",
       "8          Chuck N     1.0  May 27, 2021   \n",
       "9              Jen     4.0  May 26, 2021   \n",
       "\n",
       "                                               title  \\\n",
       "0  Universal is a complete Disaster - stick with ...   \n",
       "1                               Food is hard to get.   \n",
       "2                                       Disappointed   \n",
       "3                                         My opinion   \n",
       "4                  The Bourne Stuntacular...MUST SEE   \n",
       "5                             This is not a vacation   \n",
       "6                                      Expected More   \n",
       "7                                  Disapointing.....   \n",
       "8        Greed makes for a terrible guest experience   \n",
       "9                    Good first time visit with kids   \n",
       "\n",
       "                                         review_text  \\\n",
       "0  We went to Universal over Memorial Day weekend...   \n",
       "1  The food service is horrible. I’m not reviewin...   \n",
       "2  I booked this vacation mainly to ride Hagrid m...   \n",
       "3  When a person tries the test seat for the ride...   \n",
       "4  Ok, I can't stress enough to anyone and everyo...   \n",
       "5  Worst experience I have ever had the rides are...   \n",
       "6  I just expected more. Alot of waiting around, ...   \n",
       "7  This was my 4th trip with my daughter to Unive...   \n",
       "8  Universal is one thing - Not Disney. Everythin...   \n",
       "9  We spent 6 nights on site at Sapphire Falls as...   \n",
       "\n",
       "                      branch  \n",
       "0  Universal Studios Florida  \n",
       "1  Universal Studios Florida  \n",
       "2  Universal Studios Florida  \n",
       "3  Universal Studios Florida  \n",
       "4  Universal Studios Florida  \n",
       "5  Universal Studios Florida  \n",
       "6  Universal Studios Florida  \n",
       "7  Universal Studios Florida  \n",
       "8  Universal Studios Florida  \n",
       "9  Universal Studios Florida  "
      ]
     },
     "execution_count": 3,
     "metadata": {},
     "output_type": "execute_result"
    }
   ],
   "source": [
    "df.head(10)"
   ]
  },
  {
   "cell_type": "markdown",
   "metadata": {},
   "source": [
    "What branches are in Universal Studios, according to the dataframe? What type of ratings can a reviewer rate?"
   ]
  },
  {
   "cell_type": "code",
   "execution_count": 4,
   "metadata": {},
   "outputs": [
    {
     "name": "stdout",
     "output_type": "stream",
     "text": [
      "Branches: Universal Studios Florida, Universal Studios Japan, Universal Studios Singapore\n",
      "Ratings: 2.0 1.0 4.0 5.0 3.0\n"
     ]
    }
   ],
   "source": [
    "print(\"Branches:\", \", \".join(df.branch.unique()))\n",
    "print(\"Ratings:\", *df.rating.unique())"
   ]
  },
  {
   "cell_type": "markdown",
   "metadata": {},
   "source": [
    "Let's change the rating column to integers."
   ]
  },
  {
   "cell_type": "code",
   "execution_count": 5,
   "metadata": {},
   "outputs": [
    {
     "data": {
      "text/html": [
       "<div>\n",
       "<style scoped>\n",
       "    .dataframe tbody tr th:only-of-type {\n",
       "        vertical-align: middle;\n",
       "    }\n",
       "\n",
       "    .dataframe tbody tr th {\n",
       "        vertical-align: top;\n",
       "    }\n",
       "\n",
       "    .dataframe thead th {\n",
       "        text-align: right;\n",
       "    }\n",
       "</style>\n",
       "<table border=\"1\" class=\"dataframe\">\n",
       "  <thead>\n",
       "    <tr style=\"text-align: right;\">\n",
       "      <th></th>\n",
       "      <th>reviewer</th>\n",
       "      <th>rating</th>\n",
       "      <th>written_date</th>\n",
       "      <th>title</th>\n",
       "      <th>review_text</th>\n",
       "      <th>branch</th>\n",
       "    </tr>\n",
       "  </thead>\n",
       "  <tbody>\n",
       "    <tr>\n",
       "      <th>0</th>\n",
       "      <td>Kelly B</td>\n",
       "      <td>2</td>\n",
       "      <td>May 30, 2021</td>\n",
       "      <td>Universal is a complete Disaster - stick with ...</td>\n",
       "      <td>We went to Universal over Memorial Day weekend...</td>\n",
       "      <td>Universal Studios Florida</td>\n",
       "    </tr>\n",
       "    <tr>\n",
       "      <th>1</th>\n",
       "      <td>Jon</td>\n",
       "      <td>1</td>\n",
       "      <td>May 30, 2021</td>\n",
       "      <td>Food is hard to get.</td>\n",
       "      <td>The food service is horrible. I’m not reviewin...</td>\n",
       "      <td>Universal Studios Florida</td>\n",
       "    </tr>\n",
       "    <tr>\n",
       "      <th>2</th>\n",
       "      <td>Nerdy P</td>\n",
       "      <td>2</td>\n",
       "      <td>May 30, 2021</td>\n",
       "      <td>Disappointed</td>\n",
       "      <td>I booked this vacation mainly to ride Hagrid m...</td>\n",
       "      <td>Universal Studios Florida</td>\n",
       "    </tr>\n",
       "    <tr>\n",
       "      <th>3</th>\n",
       "      <td>ran101278</td>\n",
       "      <td>4</td>\n",
       "      <td>May 29, 2021</td>\n",
       "      <td>My opinion</td>\n",
       "      <td>When a person tries the test seat for the ride...</td>\n",
       "      <td>Universal Studios Florida</td>\n",
       "    </tr>\n",
       "    <tr>\n",
       "      <th>4</th>\n",
       "      <td>tammies20132015</td>\n",
       "      <td>5</td>\n",
       "      <td>May 28, 2021</td>\n",
       "      <td>The Bourne Stuntacular...MUST SEE</td>\n",
       "      <td>Ok, I can't stress enough to anyone and everyo...</td>\n",
       "      <td>Universal Studios Florida</td>\n",
       "    </tr>\n",
       "    <tr>\n",
       "      <th>5</th>\n",
       "      <td>John</td>\n",
       "      <td>1</td>\n",
       "      <td>May 28, 2021</td>\n",
       "      <td>This is not a vacation</td>\n",
       "      <td>Worst experience I have ever had the rides are...</td>\n",
       "      <td>Universal Studios Florida</td>\n",
       "    </tr>\n",
       "    <tr>\n",
       "      <th>6</th>\n",
       "      <td>annapN7702ZW</td>\n",
       "      <td>2</td>\n",
       "      <td>May 27, 2021</td>\n",
       "      <td>Expected More</td>\n",
       "      <td>I just expected more. Alot of waiting around, ...</td>\n",
       "      <td>Universal Studios Florida</td>\n",
       "    </tr>\n",
       "    <tr>\n",
       "      <th>7</th>\n",
       "      <td>Deb P</td>\n",
       "      <td>2</td>\n",
       "      <td>May 27, 2021</td>\n",
       "      <td>Disapointing.....</td>\n",
       "      <td>This was my 4th trip with my daughter to Unive...</td>\n",
       "      <td>Universal Studios Florida</td>\n",
       "    </tr>\n",
       "    <tr>\n",
       "      <th>8</th>\n",
       "      <td>Chuck N</td>\n",
       "      <td>1</td>\n",
       "      <td>May 27, 2021</td>\n",
       "      <td>Greed makes for a terrible guest experience</td>\n",
       "      <td>Universal is one thing - Not Disney. Everythin...</td>\n",
       "      <td>Universal Studios Florida</td>\n",
       "    </tr>\n",
       "    <tr>\n",
       "      <th>9</th>\n",
       "      <td>Jen</td>\n",
       "      <td>4</td>\n",
       "      <td>May 26, 2021</td>\n",
       "      <td>Good first time visit with kids</td>\n",
       "      <td>We spent 6 nights on site at Sapphire Falls as...</td>\n",
       "      <td>Universal Studios Florida</td>\n",
       "    </tr>\n",
       "  </tbody>\n",
       "</table>\n",
       "</div>"
      ],
      "text/plain": [
       "          reviewer  rating  written_date  \\\n",
       "0          Kelly B       2  May 30, 2021   \n",
       "1              Jon       1  May 30, 2021   \n",
       "2          Nerdy P       2  May 30, 2021   \n",
       "3        ran101278       4  May 29, 2021   \n",
       "4  tammies20132015       5  May 28, 2021   \n",
       "5             John       1  May 28, 2021   \n",
       "6     annapN7702ZW       2  May 27, 2021   \n",
       "7            Deb P       2  May 27, 2021   \n",
       "8          Chuck N       1  May 27, 2021   \n",
       "9              Jen       4  May 26, 2021   \n",
       "\n",
       "                                               title  \\\n",
       "0  Universal is a complete Disaster - stick with ...   \n",
       "1                               Food is hard to get.   \n",
       "2                                       Disappointed   \n",
       "3                                         My opinion   \n",
       "4                  The Bourne Stuntacular...MUST SEE   \n",
       "5                             This is not a vacation   \n",
       "6                                      Expected More   \n",
       "7                                  Disapointing.....   \n",
       "8        Greed makes for a terrible guest experience   \n",
       "9                    Good first time visit with kids   \n",
       "\n",
       "                                         review_text  \\\n",
       "0  We went to Universal over Memorial Day weekend...   \n",
       "1  The food service is horrible. I’m not reviewin...   \n",
       "2  I booked this vacation mainly to ride Hagrid m...   \n",
       "3  When a person tries the test seat for the ride...   \n",
       "4  Ok, I can't stress enough to anyone and everyo...   \n",
       "5  Worst experience I have ever had the rides are...   \n",
       "6  I just expected more. Alot of waiting around, ...   \n",
       "7  This was my 4th trip with my daughter to Unive...   \n",
       "8  Universal is one thing - Not Disney. Everythin...   \n",
       "9  We spent 6 nights on site at Sapphire Falls as...   \n",
       "\n",
       "                      branch  \n",
       "0  Universal Studios Florida  \n",
       "1  Universal Studios Florida  \n",
       "2  Universal Studios Florida  \n",
       "3  Universal Studios Florida  \n",
       "4  Universal Studios Florida  \n",
       "5  Universal Studios Florida  \n",
       "6  Universal Studios Florida  \n",
       "7  Universal Studios Florida  \n",
       "8  Universal Studios Florida  \n",
       "9  Universal Studios Florida  "
      ]
     },
     "execution_count": 5,
     "metadata": {},
     "output_type": "execute_result"
    }
   ],
   "source": [
    "df.rating = pd.to_numeric(df.rating, downcast=\"integer\")\n",
    "df.head(10)"
   ]
  },
  {
   "cell_type": "markdown",
   "metadata": {},
   "source": [
    "#### 2.2 Finding the top 10 most frequent words based on rating."
   ]
  },
  {
   "cell_type": "markdown",
   "metadata": {},
   "source": [
    "Creating a function to preprocess the text in review_text. After preprocessing, the text will remove stop words, keep only English words, and stem each word."
   ]
  },
  {
   "cell_type": "code",
   "execution_count": 6,
   "metadata": {},
   "outputs": [],
   "source": [
    "stop_words=set(stopwords.words(\"english\"))  # get the stop_words in english\n",
    "stemmer = PorterStemmer()  # create a PorterStemmer object to stem any word\n",
    "tokenizer = RegexpTokenizer(\"\\w+\") # only tokenize words\n",
    "    \n",
    "def preprocess(text):\n",
    "    new_text = [stemmer.stem(word) for word in tokenizer.tokenize(text.lower()) if word not in stop_words]\n",
    "    return \" \".join(new_text)"
   ]
  },
  {
   "cell_type": "markdown",
   "metadata": {},
   "source": [
    "Preprocess every review in the dataframe."
   ]
  },
  {
   "cell_type": "code",
   "execution_count": 7,
   "metadata": {},
   "outputs": [
    {
     "data": {
      "text/html": [
       "<div>\n",
       "<style scoped>\n",
       "    .dataframe tbody tr th:only-of-type {\n",
       "        vertical-align: middle;\n",
       "    }\n",
       "\n",
       "    .dataframe tbody tr th {\n",
       "        vertical-align: top;\n",
       "    }\n",
       "\n",
       "    .dataframe thead th {\n",
       "        text-align: right;\n",
       "    }\n",
       "</style>\n",
       "<table border=\"1\" class=\"dataframe\">\n",
       "  <thead>\n",
       "    <tr style=\"text-align: right;\">\n",
       "      <th></th>\n",
       "      <th>review_text</th>\n",
       "    </tr>\n",
       "  </thead>\n",
       "  <tbody>\n",
       "    <tr>\n",
       "      <th>0</th>\n",
       "      <td>went univers memori day weekend total train wr...</td>\n",
       "    </tr>\n",
       "    <tr>\n",
       "      <th>1</th>\n",
       "      <td>food servic horribl review food wait time 45 m...</td>\n",
       "    </tr>\n",
       "    <tr>\n",
       "      <th>2</th>\n",
       "      <td>book vacat mainli ride hagrid motorcycl advent...</td>\n",
       "    </tr>\n",
       "    <tr>\n",
       "      <th>3</th>\n",
       "      <td>person tri test seat ride get green light go l...</td>\n",
       "    </tr>\n",
       "    <tr>\n",
       "      <th>4</th>\n",
       "      <td>ok stress enough anyon everyon go univers stud...</td>\n",
       "    </tr>\n",
       "  </tbody>\n",
       "</table>\n",
       "</div>"
      ],
      "text/plain": [
       "                                         review_text\n",
       "0  went univers memori day weekend total train wr...\n",
       "1  food servic horribl review food wait time 45 m...\n",
       "2  book vacat mainli ride hagrid motorcycl advent...\n",
       "3  person tri test seat ride get green light go l...\n",
       "4  ok stress enough anyon everyon go univers stud..."
      ]
     },
     "execution_count": 7,
     "metadata": {},
     "output_type": "execute_result"
    }
   ],
   "source": [
    "df_processed = pd.Series([preprocess(df.review_text.loc[i]) for i in range(df.shape[0])]).to_frame()\n",
    "df_processed.columns = [\"review_text\"]\n",
    "df_processed.head()"
   ]
  },
  {
   "cell_type": "markdown",
   "metadata": {},
   "source": [
    "Creating a function to get the top words from a dataframe."
   ]
  },
  {
   "cell_type": "code",
   "execution_count": 8,
   "metadata": {},
   "outputs": [],
   "source": [
    "def get_top_words(dataframe, top=10):\n",
    "    string = \"\"\n",
    "    for text in dataframe.values:\n",
    "        string += str(text)\n",
    "    tokenizer = RegexpTokenizer(\"[\\w]+\")\n",
    "    words = tokenizer.tokenize(string)\n",
    "#     words = [i[0] for i in nltk.pos_tag(words) if \"NN\" in i[1]]  # filter only nouns\n",
    "    freqD = sorted(nltk.FreqDist(words).items(), key=lambda x:x[1], reverse=True)\n",
    "    top_words = [pair[0] for pair in freqD[:top]] # top 10 words\n",
    "    top_freq = [pair[1] for pair in freqD[:top]] # top 10 frequency counts for coresponding words\n",
    "    return (top_words, top_freq)\n",
    "    "
   ]
  },
  {
   "cell_type": "markdown",
   "metadata": {},
   "source": [
    "Creating a funciton to plot the top words from a dataframe."
   ]
  },
  {
   "cell_type": "code",
   "execution_count": 9,
   "metadata": {},
   "outputs": [],
   "source": [
    "def plot_top_words(words, freq, title=\"\"):\n",
    "    plt.bar(range(len(freq)), freq)\n",
    "    plt.xticks(range(len(words)), words, rotation=90)\n",
    "    plt.title(\"Top \" + str(len(words)) + \" Words \" + title)\n",
    "    plt.ylabel(\"Frequency\")\n",
    "    plt.xlabel(\"Words \")\n",
    "    plt.show()"
   ]
  },
  {
   "cell_type": "markdown",
   "metadata": {},
   "source": [
    "Get top 10 most frequent words for 5 stars."
   ]
  },
  {
   "cell_type": "code",
   "execution_count": 10,
   "metadata": {},
   "outputs": [
    {
     "data": {
      "image/png": "[encoded data removed]",
      "text/plain": [
       "<Figure size 432x288 with 1 Axes>"
      ]
     },
     "metadata": {
      "needs_background": "light"
     },
     "output_type": "display_data"
    }
   ],
   "source": [
    "five_star = df_processed[df.rating == 5]\n",
    "top_five = get_top_words(five_star, 20)\n",
    "plot_top_words(top_five[0], top_five[1], title=\"for 5 star reviews\")"
   ]
  },
  {
   "cell_type": "markdown",
   "metadata": {},
   "source": [
    "Get top 10 most frequent words for 1 stars."
   ]
  },
  {
   "cell_type": "code",
   "execution_count": 11,
   "metadata": {},
   "outputs": [
    {
     "data": {
      "image/png": "[encoded data removed]",
      "text/plain": [
       "<Figure size 432x288 with 1 Axes>"
      ]
     },
     "metadata": {
      "needs_background": "light"
     },
     "output_type": "display_data"
    }
   ],
   "source": [
    "one_star = df_processed[df.rating == 1]\n",
    "top_one = get_top_words(one_star, 20)\n",
    "plot_top_words(top_one[0], top_one[1], title=\"for 1 star reviews\")"
   ]
  },
  {
   "cell_type": "markdown",
   "metadata": {},
   "source": [
    "Let's see what words are exclusive in each rating."
   ]
  },
  {
   "cell_type": "code",
   "execution_count": 12,
   "metadata": {},
   "outputs": [
    {
     "name": "stdout",
     "output_type": "stream",
     "text": [
      "Top words in 5-star reviews, but not in 1-star reviews: love, studio, great, place, visit, fun, harri, potter\n",
      "Top words in 1-star reviews, but not in 5-star reviews: minut, would, money, peopl, ticket, us, even, hour\n"
     ]
    }
   ],
   "source": [
    "print(\"Top words in 5-star reviews, but not in 1-star reviews:\", \", \".join(set(top_five[0]).difference(set(top_one[0]))))\n",
    "print(\"Top words in 1-star reviews, but not in 5-star reviews:\", \", \".join(set(top_one[0]).difference(set(top_five[0]))))"
   ]
  },
  {
   "cell_type": "markdown",
   "metadata": {},
   "source": [
    "#### 2.3 How frequent were there reviews over a period of time?"
   ]
  },
  {
   "cell_type": "markdown",
   "metadata": {},
   "source": [
    "Let's first show time as years in the dataset to compare frequency of reviews and time in years."
   ]
  },
  {
   "cell_type": "code",
   "execution_count": 13,
   "metadata": {},
   "outputs": [
    {
     "data": {
      "text/html": [
       "<div>\n",
       "<style scoped>\n",
       "    .dataframe tbody tr th:only-of-type {\n",
       "        vertical-align: middle;\n",
       "    }\n",
       "\n",
       "    .dataframe tbody tr th {\n",
       "        vertical-align: top;\n",
       "    }\n",
       "\n",
       "    .dataframe thead th {\n",
       "        text-align: right;\n",
       "    }\n",
       "</style>\n",
       "<table border=\"1\" class=\"dataframe\">\n",
       "  <thead>\n",
       "    <tr style=\"text-align: right;\">\n",
       "      <th></th>\n",
       "      <th>year</th>\n",
       "      <th>reviewer</th>\n",
       "      <th>rating</th>\n",
       "      <th>title</th>\n",
       "      <th>review_text</th>\n",
       "      <th>branch</th>\n",
       "    </tr>\n",
       "  </thead>\n",
       "  <tbody>\n",
       "    <tr>\n",
       "      <th>0</th>\n",
       "      <td>2021</td>\n",
       "      <td>Kelly B</td>\n",
       "      <td>2</td>\n",
       "      <td>Universal is a complete Disaster - stick with ...</td>\n",
       "      <td>We went to Universal over Memorial Day weekend...</td>\n",
       "      <td>Universal Studios Florida</td>\n",
       "    </tr>\n",
       "    <tr>\n",
       "      <th>1</th>\n",
       "      <td>2021</td>\n",
       "      <td>Jon</td>\n",
       "      <td>1</td>\n",
       "      <td>Food is hard to get.</td>\n",
       "      <td>The food service is horrible. I’m not reviewin...</td>\n",
       "      <td>Universal Studios Florida</td>\n",
       "    </tr>\n",
       "    <tr>\n",
       "      <th>2</th>\n",
       "      <td>2021</td>\n",
       "      <td>Nerdy P</td>\n",
       "      <td>2</td>\n",
       "      <td>Disappointed</td>\n",
       "      <td>I booked this vacation mainly to ride Hagrid m...</td>\n",
       "      <td>Universal Studios Florida</td>\n",
       "    </tr>\n",
       "    <tr>\n",
       "      <th>3</th>\n",
       "      <td>2021</td>\n",
       "      <td>ran101278</td>\n",
       "      <td>4</td>\n",
       "      <td>My opinion</td>\n",
       "      <td>When a person tries the test seat for the ride...</td>\n",
       "      <td>Universal Studios Florida</td>\n",
       "    </tr>\n",
       "    <tr>\n",
       "      <th>4</th>\n",
       "      <td>2021</td>\n",
       "      <td>tammies20132015</td>\n",
       "      <td>5</td>\n",
       "      <td>The Bourne Stuntacular...MUST SEE</td>\n",
       "      <td>Ok, I can't stress enough to anyone and everyo...</td>\n",
       "      <td>Universal Studios Florida</td>\n",
       "    </tr>\n",
       "  </tbody>\n",
       "</table>\n",
       "</div>"
      ],
      "text/plain": [
       "   year         reviewer  rating  \\\n",
       "0  2021          Kelly B       2   \n",
       "1  2021              Jon       1   \n",
       "2  2021          Nerdy P       2   \n",
       "3  2021        ran101278       4   \n",
       "4  2021  tammies20132015       5   \n",
       "\n",
       "                                               title  \\\n",
       "0  Universal is a complete Disaster - stick with ...   \n",
       "1                               Food is hard to get.   \n",
       "2                                       Disappointed   \n",
       "3                                         My opinion   \n",
       "4                  The Bourne Stuntacular...MUST SEE   \n",
       "\n",
       "                                         review_text  \\\n",
       "0  We went to Universal over Memorial Day weekend...   \n",
       "1  The food service is horrible. I’m not reviewin...   \n",
       "2  I booked this vacation mainly to ride Hagrid m...   \n",
       "3  When a person tries the test seat for the ride...   \n",
       "4  Ok, I can't stress enough to anyone and everyo...   \n",
       "\n",
       "                      branch  \n",
       "0  Universal Studios Florida  \n",
       "1  Universal Studios Florida  \n",
       "2  Universal Studios Florida  \n",
       "3  Universal Studios Florida  \n",
       "4  Universal Studios Florida  "
      ]
     },
     "execution_count": 13,
     "metadata": {},
     "output_type": "execute_result"
    }
   ],
   "source": [
    "years = pd.Series([re.search(\"([0-9]+)$\", date).group() for date in df.written_date]).to_frame()\n",
    "years.columns = [\"year\"]\n",
    "df_by_year = pd.concat([years, df], axis=1).drop(columns=[\"written_date\"])\n",
    "df_by_year.head()"
   ]
  },
  {
   "cell_type": "markdown",
   "metadata": {},
   "source": [
    "What years are included in the dataset?"
   ]
  },
  {
   "cell_type": "code",
   "execution_count": 14,
   "metadata": {},
   "outputs": [
    {
     "name": "stdout",
     "output_type": "stream",
     "text": [
      "Years in dataset: 2002 2003 2004 2005 2006 2007 2008 2009 2010 2011 2012 2013 2014 2015 2016 2017 2018 2019 2020 2021\n"
     ]
    }
   ],
   "source": [
    "tot_years = sorted(years.year.unique(), reverse=False)\n",
    "print(\"Years in dataset:\", *tot_years)"
   ]
  },
  {
   "cell_type": "markdown",
   "metadata": {},
   "source": [
    "How many reviews were there in each year?"
   ]
  },
  {
   "cell_type": "code",
   "execution_count": 15,
   "metadata": {},
   "outputs": [
    {
     "data": {
      "text/plain": [
       "{'2002': 1,\n",
       " '2003': 7,\n",
       " '2004': 57,\n",
       " '2005': 40,\n",
       " '2006': 60,\n",
       " '2007': 80,\n",
       " '2008': 94,\n",
       " '2009': 169,\n",
       " '2010': 414,\n",
       " '2011': 998,\n",
       " '2012': 2270,\n",
       " '2013': 3789,\n",
       " '2014': 5452,\n",
       " '2015': 9101,\n",
       " '2016': 9300,\n",
       " '2017': 7143,\n",
       " '2018': 6175,\n",
       " '2019': 4470,\n",
       " '2020': 999,\n",
       " '2021': 285}"
      ]
     },
     "execution_count": 15,
     "metadata": {},
     "output_type": "execute_result"
    }
   ],
   "source": [
    "year_freq = {elem[0]:elem[1] for elem in zip(tot_years, df_by_year.groupby(\"year\").count().values[:,0])}\n",
    "year_freq"
   ]
  },
  {
   "cell_type": "markdown",
   "metadata": {},
   "source": [
    "Let's depict this in a line graph."
   ]
  },
  {
   "cell_type": "code",
   "execution_count": 16,
   "metadata": {},
   "outputs": [
    {
     "data": {
      "image/png": "[encoded data removed]",
      "text/plain": [
       "<Figure size 432x288 with 1 Axes>"
      ]
     },
     "metadata": {
      "needs_background": "light"
     },
     "output_type": "display_data"
    }
   ],
   "source": [
    "plt.plot(year_freq.keys(), year_freq.values())\n",
    "plt.xlabel(\"Year\")\n",
    "plt.ylabel(\"Number of Reviews\")\n",
    "plt.title(\"Number of reviews by year\", fontsize=18)\n",
    "plt.xticks(rotation=90)\n",
    "plt.show()"
   ]
  },
  {
   "cell_type": "markdown",
   "metadata": {},
   "source": [
    "Now let's see how frequent reviews occur within the calendar year. We will first start by creating a month column."
   ]
  },
  {
   "cell_type": "code",
   "execution_count": 17,
   "metadata": {},
   "outputs": [
    {
     "data": {
      "text/html": [
       "<div>\n",
       "<style scoped>\n",
       "    .dataframe tbody tr th:only-of-type {\n",
       "        vertical-align: middle;\n",
       "    }\n",
       "\n",
       "    .dataframe tbody tr th {\n",
       "        vertical-align: top;\n",
       "    }\n",
       "\n",
       "    .dataframe thead th {\n",
       "        text-align: right;\n",
       "    }\n",
       "</style>\n",
       "<table border=\"1\" class=\"dataframe\">\n",
       "  <thead>\n",
       "    <tr style=\"text-align: right;\">\n",
       "      <th></th>\n",
       "      <th>month</th>\n",
       "      <th>reviewer</th>\n",
       "      <th>rating</th>\n",
       "      <th>title</th>\n",
       "      <th>review_text</th>\n",
       "      <th>branch</th>\n",
       "    </tr>\n",
       "  </thead>\n",
       "  <tbody>\n",
       "    <tr>\n",
       "      <th>0</th>\n",
       "      <td>May</td>\n",
       "      <td>Kelly B</td>\n",
       "      <td>2</td>\n",
       "      <td>Universal is a complete Disaster - stick with ...</td>\n",
       "      <td>We went to Universal over Memorial Day weekend...</td>\n",
       "      <td>Universal Studios Florida</td>\n",
       "    </tr>\n",
       "    <tr>\n",
       "      <th>1</th>\n",
       "      <td>May</td>\n",
       "      <td>Jon</td>\n",
       "      <td>1</td>\n",
       "      <td>Food is hard to get.</td>\n",
       "      <td>The food service is horrible. I’m not reviewin...</td>\n",
       "      <td>Universal Studios Florida</td>\n",
       "    </tr>\n",
       "    <tr>\n",
       "      <th>2</th>\n",
       "      <td>May</td>\n",
       "      <td>Nerdy P</td>\n",
       "      <td>2</td>\n",
       "      <td>Disappointed</td>\n",
       "      <td>I booked this vacation mainly to ride Hagrid m...</td>\n",
       "      <td>Universal Studios Florida</td>\n",
       "    </tr>\n",
       "    <tr>\n",
       "      <th>3</th>\n",
       "      <td>May</td>\n",
       "      <td>ran101278</td>\n",
       "      <td>4</td>\n",
       "      <td>My opinion</td>\n",
       "      <td>When a person tries the test seat for the ride...</td>\n",
       "      <td>Universal Studios Florida</td>\n",
       "    </tr>\n",
       "    <tr>\n",
       "      <th>4</th>\n",
       "      <td>May</td>\n",
       "      <td>tammies20132015</td>\n",
       "      <td>5</td>\n",
       "      <td>The Bourne Stuntacular...MUST SEE</td>\n",
       "      <td>Ok, I can't stress enough to anyone and everyo...</td>\n",
       "      <td>Universal Studios Florida</td>\n",
       "    </tr>\n",
       "  </tbody>\n",
       "</table>\n",
       "</div>"
      ],
      "text/plain": [
       "  month         reviewer  rating  \\\n",
       "0   May          Kelly B       2   \n",
       "1   May              Jon       1   \n",
       "2   May          Nerdy P       2   \n",
       "3   May        ran101278       4   \n",
       "4   May  tammies20132015       5   \n",
       "\n",
       "                                               title  \\\n",
       "0  Universal is a complete Disaster - stick with ...   \n",
       "1                               Food is hard to get.   \n",
       "2                                       Disappointed   \n",
       "3                                         My opinion   \n",
       "4                  The Bourne Stuntacular...MUST SEE   \n",
       "\n",
       "                                         review_text  \\\n",
       "0  We went to Universal over Memorial Day weekend...   \n",
       "1  The food service is horrible. I’m not reviewin...   \n",
       "2  I booked this vacation mainly to ride Hagrid m...   \n",
       "3  When a person tries the test seat for the ride...   \n",
       "4  Ok, I can't stress enough to anyone and everyo...   \n",
       "\n",
       "                      branch  \n",
       "0  Universal Studios Florida  \n",
       "1  Universal Studios Florida  \n",
       "2  Universal Studios Florida  \n",
       "3  Universal Studios Florida  \n",
       "4  Universal Studios Florida  "
      ]
     },
     "execution_count": 17,
     "metadata": {},
     "output_type": "execute_result"
    }
   ],
   "source": [
    "months = pd.Series([re.search(\"^([A-Za-z]+)\", date).group() for date in df.written_date]).to_frame()\n",
    "months.columns = [\"month\"]\n",
    "df_by_month = pd.concat([months, df], axis=1).drop(columns=[\"written_date\"])\n",
    "df_by_month.head()"
   ]
  },
  {
   "cell_type": "markdown",
   "metadata": {},
   "source": [
    "How many reviews are there per month in a year?"
   ]
  },
  {
   "cell_type": "code",
   "execution_count": 18,
   "metadata": {},
   "outputs": [
    {
     "data": {
      "text/plain": [
       "{'January': 4531,\n",
       " 'February': 3218,\n",
       " 'March': 3945,\n",
       " 'April': 4444,\n",
       " 'May': 3903,\n",
       " 'June': 4267,\n",
       " 'July': 5266,\n",
       " 'August': 4978,\n",
       " 'September': 4086,\n",
       " 'October': 4692,\n",
       " 'November': 3760,\n",
       " 'December': 3814}"
      ]
     },
     "execution_count": 18,
     "metadata": {},
     "output_type": "execute_result"
    }
   ],
   "source": [
    "month_freq_unsorted = {elem[0]: elem[1] for elem in zip(df_by_month.groupby(\"month\").count().index.values, df_by_month.groupby(\"month\").count().values[:,0])}\n",
    "month_names = [\"January\", \"February\", \"March\", \"April\", \"May\", \"June\", \"July\", \"August\", \"September\", \"October\",\n",
    "         \"November\", \"December\"]\n",
    "month_freq = {name: month_freq_unsorted[name] for name in month_names}\n",
    "month_freq"
   ]
  },
  {
   "cell_type": "markdown",
   "metadata": {},
   "source": [
    "Let's depict this in a line graph."
   ]
  },
  {
   "cell_type": "code",
   "execution_count": 19,
   "metadata": {},
   "outputs": [
    {
     "data": {
      "image/png": "[encoded data removed]",
      "text/plain": [
       "<Figure size 432x288 with 1 Axes>"
      ]
     },
     "metadata": {
      "needs_background": "light"
     },
     "output_type": "display_data"
    }
   ],
   "source": [
    "plt.plot(month_freq.keys(), month_freq.values())\n",
    "plt.xlabel(\"Month\")\n",
    "plt.ylabel(\"Number of Reviews\")\n",
    "plt.title(\"Number of reviews by the month\", fontsize=18)\n",
    "plt.xticks(rotation=90)\n",
    "plt.show()"
   ]
  },
  {
   "cell_type": "markdown",
   "metadata": {},
   "source": [
    "#### 2.4 Which branch tends to yield higher-rated reviews? Which branch tends to yield lower-rated reviews?"
   ]
  },
  {
   "cell_type": "markdown",
   "metadata": {},
   "source": [
    "First let's make separate dataframes for each branch."
   ]
  },
  {
   "cell_type": "code",
   "execution_count": 20,
   "metadata": {},
   "outputs": [],
   "source": [
    "florida = df[df.branch==\"Universal Studios Florida\"]\n",
    "singapore = df[df.branch==\"Universal Studios Singapore\"]\n",
    "japan = df[df.branch==\"Universal Studios Japan\"]"
   ]
  },
  {
   "cell_type": "markdown",
   "metadata": {},
   "source": [
    "Since the three dataframes all vary in size, it is best to compare the amount of high-rated reviews proportionally. Let's create a function that prints the proportion of a certain rating of the dataset."
   ]
  },
  {
   "cell_type": "code",
   "execution_count": 21,
   "metadata": {},
   "outputs": [],
   "source": [
    "def print_rating_proportions(branch_df, name=\"\"):\n",
    "    branch_df_entries = branch_df.shape[0]\n",
    "    branch_df_num_by_ratings = branch_df.groupby(\"rating\").count().values[:,0]\n",
    "    branch_df_perc = []\n",
    "    for rating, amount in enumerate(branch_df_num_by_ratings, 1):\n",
    "        percent = round(((amount/branch_df_entries)*100), 2)\n",
    "        branch_df_perc.append(percent)\n",
    "        print(\"Percentage of \" + str(rating) + \"-star ratings \" + name + \":\", f\"{percent:.2f}%\")\n",
    "    return branch_df_perc\n",
    "    "
   ]
  },
  {
   "cell_type": "markdown",
   "metadata": {},
   "source": [
    "Florida's proportions of ratings:"
   ]
  },
  {
   "cell_type": "code",
   "execution_count": 22,
   "metadata": {},
   "outputs": [
    {
     "name": "stdout",
     "output_type": "stream",
     "text": [
      "Percentage of 1-star ratings in Florida: 4.49%\n",
      "Percentage of 2-star ratings in Florida: 4.47%\n",
      "Percentage of 3-star ratings in Florida: 9.67%\n",
      "Percentage of 4-star ratings in Florida: 22.66%\n",
      "Percentage of 5-star ratings in Florida: 58.71%\n"
     ]
    }
   ],
   "source": [
    "florida_perc = print_rating_proportions(florida, name=\"in Florida\")"
   ]
  },
  {
   "cell_type": "markdown",
   "metadata": {},
   "source": [
    "Japan's proportions of ratings:"
   ]
  },
  {
   "cell_type": "code",
   "execution_count": 23,
   "metadata": {},
   "outputs": [
    {
     "name": "stdout",
     "output_type": "stream",
     "text": [
      "Percentage of 1-star ratings in Japan: 4.28%\n",
      "Percentage of 2-star ratings in Japan: 3.78%\n",
      "Percentage of 3-star ratings in Japan: 12.30%\n",
      "Percentage of 4-star ratings in Japan: 33.80%\n",
      "Percentage of 5-star ratings in Japan: 45.84%\n"
     ]
    }
   ],
   "source": [
    "japan_perc = print_rating_proportions(japan, name=\"in Japan\")"
   ]
  },
  {
   "cell_type": "markdown",
   "metadata": {},
   "source": [
    "Singapore's proportions of ratings:"
   ]
  },
  {
   "cell_type": "code",
   "execution_count": 24,
   "metadata": {},
   "outputs": [
    {
     "name": "stdout",
     "output_type": "stream",
     "text": [
      "Percentage of 1-star ratings in Singapore: 2.57%\n",
      "Percentage of 2-star ratings in Singapore: 2.83%\n",
      "Percentage of 3-star ratings in Singapore: 10.87%\n",
      "Percentage of 4-star ratings in Singapore: 32.01%\n",
      "Percentage of 5-star ratings in Singapore: 51.72%\n"
     ]
    }
   ],
   "source": [
    "singapore_perc = print_rating_proportions(singapore, name=\"in Singapore\")"
   ]
  },
  {
   "cell_type": "markdown",
   "metadata": {},
   "source": [
    "Let's compare the proportions with all three branches by using a grouped bar plot."
   ]
  },
  {
   "cell_type": "code",
   "execution_count": 25,
   "metadata": {},
   "outputs": [
    {
     "data": {
      "image/png": "[encoded data removed]",
      "text/plain": [
       "<Figure size 432x288 with 1 Axes>"
      ]
     },
     "metadata": {
      "needs_background": "light"
     },
     "output_type": "display_data"
    }
   ],
   "source": [
    "bar_width = 0.25\n",
    "florida_placement = np.array([1.0, 2.0, 3.0, 4.0, 5.0])\n",
    "japan_placement = florida_placement - bar_width\n",
    "singapore_placement = florida_placement + bar_width\n",
    "\n",
    "plt.bar(florida_placement, florida_perc, width=bar_width, label=\"Florida\")\n",
    "plt.bar(japan_placement, japan_perc, width=bar_width, label=\"Japan\")\n",
    "plt.bar(singapore_placement, singapore_perc, width=bar_width, label=\"Singapore\")\n",
    "plt.legend()\n",
    "plt.xticks(range(1, 6), range(1, 6))\n",
    "plt.xlabel(\"Rating (Number of Stars)\")\n",
    "plt.ylabel(\"Percent of branch reviews\")\n",
    "plt.title(\"Branch Rating Comparison\", fontsize=16)\n",
    "plt.show()"
   ]
  },
  {
   "cell_type": "markdown",
   "metadata": {},
   "source": [
    "### 3. Preparing and Predicting Universal Studio Ratings"
   ]
  },
  {
   "cell_type": "markdown",
   "metadata": {},
   "source": [
    "Can we predict a rating that will have 1-stars or 5-stars of a given Universal Studios review? "
   ]
  },
  {
   "cell_type": "markdown",
   "metadata": {},
   "source": [
    "#### 3.1 Preparing data for training and testing"
   ]
  },
  {
   "cell_type": "code",
   "execution_count": 26,
   "metadata": {},
   "outputs": [],
   "source": [
    "# Note that we have already preprocessed the reviews during EDA in variable df_processed.\n",
    "X = df_processed[(df.rating==1)|(df.rating==5)].reset_index().drop(columns=[\"index\"]) # feature\n",
    "y = df.rating[(df.rating==1)|(df.rating==5)].reset_index().drop(columns=[\"index\"]) # label"
   ]
  },
  {
   "cell_type": "markdown",
   "metadata": {},
   "source": [
    "Let's see how many 1-star and 5-star reviews are there."
   ]
  },
  {
   "cell_type": "code",
   "execution_count": 27,
   "metadata": {},
   "outputs": [
    {
     "name": "stdout",
     "output_type": "stream",
     "text": [
      "Number of 1-star rated reviews: 1973\n",
      "Number of 5-star rated reviews: 28202\n"
     ]
    }
   ],
   "source": [
    "print(\"Number of 1-star rated reviews:\", len(y[y==1].dropna()))\n",
    "print(\"Number of 5-star rated reviews:\", len(y[y==5].dropna()))"
   ]
  },
  {
   "cell_type": "markdown",
   "metadata": {},
   "source": [
    "Convert the text in X to vectors of numbers."
   ]
  },
  {
   "cell_type": "code",
   "execution_count": 28,
   "metadata": {},
   "outputs": [],
   "source": [
    "vectorizer = CountVectorizer()\n",
    "vectorizer.fit(X.review_text)\n",
    "X_vectors = vectorizer.transform(X.review_text)"
   ]
  },
  {
   "cell_type": "markdown",
   "metadata": {},
   "source": [
    "Get the training and testing sets."
   ]
  },
  {
   "cell_type": "code",
   "execution_count": 29,
   "metadata": {},
   "outputs": [
    {
     "name": "stdout",
     "output_type": "stream",
     "text": [
      "Shape of X_train: (24140, 22771)\n",
      "Shape of X_test: (6035, 22771)\n",
      "Shapeof y_train: (24140, 1)\n",
      "Shapeof y_test: (6035, 1)\n"
     ]
    }
   ],
   "source": [
    "X_train, X_test, y_train, y_test = train_test_split(X_vectors, y, test_size=0.2)\n",
    "print(\"Shape of X_train:\", X_train.shape)\n",
    "print(\"Shape of X_test:\", X_test.shape)\n",
    "print(\"Shapeof y_train:\", y_train.shape)\n",
    "print(\"Shapeof y_test:\", y_test.shape)"
   ]
  },
  {
   "cell_type": "markdown",
   "metadata": {},
   "source": [
    "#### 3.2 Train and test ML model"
   ]
  },
  {
   "cell_type": "markdown",
   "metadata": {},
   "source": [
    "Create and train a model to test. We will be using the Multinomial Naive Bayes model."
   ]
  },
  {
   "cell_type": "code",
   "execution_count": 30,
   "metadata": {},
   "outputs": [
    {
     "name": "stderr",
     "output_type": "stream",
     "text": [
      "/opt/anaconda3/lib/python3.8/site-packages/sklearn/utils/validation.py:72: DataConversionWarning: A column-vector y was passed when a 1d array was expected. Please change the shape of y to (n_samples, ), for example using ravel().\n",
      "  return f(**kwargs)\n"
     ]
    }
   ],
   "source": [
    "classifier = MultinomialNB()\n",
    "classifier.fit(X_train, y_train)\n",
    "y_pred = classifier.predict(X_test)"
   ]
  },
  {
   "cell_type": "markdown",
   "metadata": {},
   "source": [
    "#### 3.3. Determining the accuracy of our model"
   ]
  },
  {
   "cell_type": "code",
   "execution_count": 31,
   "metadata": {},
   "outputs": [
    {
     "name": "stdout",
     "output_type": "stream",
     "text": [
      "Accuracy (F1 Score): 96.7219%\n"
     ]
    }
   ],
   "source": [
    "print(\"Accuracy (F1 Score):\", \"{:.4f}%\".format(metrics.f1_score(y_test, y_pred, average=\"weighted\")*100))"
   ]
  },
  {
   "cell_type": "markdown",
   "metadata": {},
   "source": [
    "### 4. Final Remarks"
   ]
  },
  {
   "cell_type": "markdown",
   "metadata": {},
   "source": [
    "#### For topic 2.2:\n",
    "\n",
    "Based on the plots in 2.2 and seeing which words are exclusive towards their rating, one could guess that those that did not enjoy Universal Studios, giving a rating of 1 star, had time-related issues.\n",
    "On the other hand, those that enjoyed Universal Studios, giving a rating of 5 stars, enjoyed the scenery, specifically the Harry Potter ride."
   ]
  },
  {
   "cell_type": "markdown",
   "metadata": {},
   "source": [
    "#### For topic 2.3:\n",
    "\n",
    "Based on the plot showing the ratings over the years, it seems like that many reviews took place between the years 2014 through 2019. There might have been a noticable decline from 2019 to 2021 in reviews due to COVID-19.\n",
    "    \n",
    "   Based on the plot showing the ratings of the months in a calendar year, it seems like reviews take place more in the summer, as July and August yields the highest number of reviews. This may be no suprise based on personal observations, as Universal Studios and other theme parks are popular in the summer, especially amongst the younger audience."
   ]
  },
  {
   "cell_type": "markdown",
   "metadata": {},
   "source": [
    "#### For topic 2.4:\n",
    "\n",
    "By observing the bar plot above, one can conclude that the Florida branch proportionally yields high-rated reviews, giving 5 stars. However, the Florida branch yields the least amount of 4-star reviews out of all the branches. \n",
    "\n",
    "When we look at which branch tends to give lower-rated reviews, we would be looking at the Florida branch as they yield the most 1-star rated and 2-star rated reviews. On the other hand, the Singapore branch tends to receives the least amount of 1-star rated and 2-star rated reviews of the three branches."
   ]
  },
  {
   "cell_type": "markdown",
   "metadata": {},
   "source": [
    "#### For topic 3.3:\n",
    "\n",
    "By observing the grouped bar plot, one can conclude that the Florida branch proportionally yields high-rated reviews, giving 5 stars. However, the Florida branch yields the least amount of 4-star reviews out of all the branches. \n",
    "\n",
    "When we look at which branch tends to give lower-rated reviews, we would be looking at the Florida branch as they yield the most 1-star rated and 2-star rated reviews. On the other hand, the Singapore branch tends to receives the least amount of 1-star rated and 2-star rated reviews of the three branches."
   ]
  },
  {
   "cell_type": "markdown",
   "metadata": {},
   "source": [
    "#### What may have skewed the results\n",
    "\n",
    "Since the dataset only focused on reviews written in English, the results founded were not able to capture reviews writen in other languages. This could have affected the results founded in 2.3, when determining the most frequent words in 5-star and 1-star rated reviews, as well as the results founded in 3.3, when predicting reviews to be 1-star or 5-star rated."
   ]
  },
  {
   "cell_type": "markdown",
   "metadata": {},
   "source": [
    "#### Room for improvement\n",
    "\n",
    "It would be better if there was work done to predict not only 1-star and 5-star rated reviews, but also 2-star, 3-star, and 4-star rated reviews, since we don't live in a world that uses 5-stars for ratings. I hope in the future I will be able to accomplish this."
   ]
  },
  {
   "cell_type": "code",
   "execution_count": null,
   "metadata": {},
   "outputs": [],
   "source": []
  }
 ],
 "metadata": {
  "kernelspec": {
   "display_name": "Python 3",
   "language": "python",
   "name": "python3"
  },
  "language_info": {
   "codemirror_mode": {
    "name": "ipython",
    "version": 3
   },
   "file_extension": ".py",
   "mimetype": "text/x-python",
   "name": "python",
   "nbconvert_exporter": "python",
   "pygments_lexer": "ipython3",
   "version": "3.8.5"
  }
 },
 "nbformat": 4,
 "nbformat_minor": 4
}
